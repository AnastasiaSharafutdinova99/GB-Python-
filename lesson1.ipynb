{
  "nbformat": 4,
  "nbformat_minor": 0,
  "metadata": {
    "colab": {
      "name": "Untitled0.ipynb",
      "provenance": [],
      "authorship_tag": "ABX9TyMG9dS66CGMgRdMTVU/IVgq",
      "include_colab_link": true
    },
    "kernelspec": {
      "name": "python3",
      "display_name": "Python 3"
    },
    "language_info": {
      "name": "python"
    }
  },
  "cells": [
    {
      "cell_type": "markdown",
      "metadata": {
        "id": "view-in-github",
        "colab_type": "text"
      },
      "source": [
        "<a href=\"https://colab.research.google.com/github/AnastasiaSharafutdinova99/GB-Python-for-analysts/blob/lesson1/lesson1.ipynb\" target=\"_parent\"><img src=\"https://colab.research.google.com/assets/colab-badge.svg\" alt=\"Open In Colab\"/></a>"
      ]
    },
    {
      "cell_type": "code",
      "source": [
        "# 1. Написать цикл для выведения на экран каждой буквы своего ФИО.\n",
        "FIO = 'Шарафутдинова Анастасия Сергеевна'\n",
        "for i in range(len(FIO)):\n",
        "  print(FIO[i])"
      ],
      "metadata": {
        "colab": {
          "base_uri": "https://localhost:8080/"
        },
        "id": "Mij7r8DEevxY",
        "outputId": "4c4a2dc9-99c8-4644-ffca-6aabe7720f4b"
      },
      "execution_count": 4,
      "outputs": [
        {
          "output_type": "stream",
          "name": "stdout",
          "text": [
            "Ш\n",
            "а\n",
            "р\n",
            "а\n",
            "ф\n",
            "у\n",
            "т\n",
            "д\n",
            "и\n",
            "н\n",
            "о\n",
            "в\n",
            "а\n",
            " \n",
            "А\n",
            "н\n",
            "а\n",
            "с\n",
            "т\n",
            "а\n",
            "с\n",
            "и\n",
            "я\n",
            " \n",
            "С\n",
            "е\n",
            "р\n",
            "г\n",
            "е\n",
            "е\n",
            "в\n",
            "н\n",
            "а\n"
          ]
        }
      ]
    },
    {
      "cell_type": "code",
      "source": [
        "# 2. Написать функцию для перевода доллара в евро c округлением до\n",
        "#    2х знаков после запятой, если известно, что текущий курс составляет\n",
        "#    1.17 долларов за один евро.\n",
        "def Conversion(dollar):\n",
        "  euro = 1.17 * dollar\n",
        "  print(round(euro, 2))\n",
        "\n",
        "Conversion(5)"
      ],
      "metadata": {
        "colab": {
          "base_uri": "https://localhost:8080/"
        },
        "id": "3A8s9IELmYSN",
        "outputId": "56eccb19-222f-4178-9d68-a582e6cbfc31"
      },
      "execution_count": 6,
      "outputs": [
        {
          "output_type": "stream",
          "name": "stdout",
          "text": [
            "5.85\n"
          ]
        }
      ]
    }
  ]
}